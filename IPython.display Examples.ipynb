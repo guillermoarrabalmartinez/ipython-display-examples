{
 "cells": [
  {
   "cell_type": "markdown",
   "metadata": {},
   "source": [
    "# Examples of IPython's (Jupyter) display widgets\n",
    "\n",
    "## Table of Contents\n",
    "\n",
    "[Motivation](#Motivation) - Why do we want to learn about this?\n",
    "\n",
    "\n",
    "## Basics\n",
    " * [Markdown](#Markdown) - Adding Markdown programmatically, including object values/results and/or with Markdown $LaTeX$.\n",
    " * [Images](#Images) - Adding pictures, local and remote\n",
    " * [Audio and Video](#Audio-and-Video) - Adding an Audio or Video file\n",
    " * [Embed Youtube](#Embed-Youtube) - Have a youtube video you want to reference...\n",
    "\n",
    "## Advanced\n",
    " * [Code Syntax Highlighting](#Code-Syntax-Highlighting) - How to display source with color (and even more dangourous and exciting tricks!)\n",
    " * [Progress Bars](#Progress-Bars) - How to show progress in some types of long running code situations\n",
    " * [Display Handles](#Display-Handles) - The way some things work, and how to get some of them to work another way\n",
    " \n",
    " \n",
    " ***"
   ]
  },
  {
   "cell_type": "markdown",
   "metadata": {},
   "source": [
    "## Motivation\n",
    "Back to [TOC](#Table-of-Contents)\n",
    "\n",
    "For those more familiar with R, `.rmarkdown` provides a way to include `R` files and the results of the executed script(s) into a Markdown like document which can be knit and then presented to end users. \n",
    "\n",
    "Jupyter does include a way to render Markdown and other elements in code cells, rather than just having a Markdown cell. Code Input can then be hidden (leaving the Code Output) using `nbconvert` to render a final deliverable document.\n",
    "\n",
    "To render a basic html without code input you can use:\n",
    "\n",
    "```jupyter nbconvert --TemplateExporter.exclude_input=True {filename}```\n",
    "\n",
    "While nbconvert can output `.pdf` files too, it becomes more complicated, as you will probably want to customize the templates for $LaTeX$ which are used for `.pdf` output."
   ]
  },
  {
   "cell_type": "markdown",
   "metadata": {},
   "source": [
    "If we just try to use the standard python `print()` function we do see something."
   ]
  },
  {
   "cell_type": "code",
   "execution_count": null,
   "metadata": {},
   "outputs": [],
   "source": [
    "print(\"Hello, World!\")"
   ]
  },
  {
   "cell_type": "markdown",
   "metadata": {},
   "source": [
    "This output doesn't really give us any formatting options or allow us to use calculated results in Markdown. Also, if you've written notebooks before, you might have seen how some types of output in loops gets overwritten. Let's start with the simplest use first and we'll work our way to this related topic of [Display Handles in the Advanced section](#Display-Handles)."
   ]
  },
  {
   "cell_type": "markdown",
   "metadata": {},
   "source": [
    "Jupyter natively provides a function called `display()`. If you try to run this in the python REPL, you will get an error.\n",
    "\n",
    "```\n",
    ">>> display()\n",
    "Traceback (most recent call last):\n",
    "  File \"<stdin>\", line 1, in <module>\n",
    "NameError: name 'display' is not defined\n",
    "```\n",
    "\n",
    "But in a notebook, we'll see some representation of the object added to the code cell's output."
   ]
  },
  {
   "cell_type": "code",
   "execution_count": null,
   "metadata": {},
   "outputs": [],
   "source": [
    "display(\"Hello, World!\")"
   ]
  },
  {
   "cell_type": "markdown",
   "metadata": {},
   "source": [
    "Notice, it has string single quotes around it. That's not really what we wanted. We'll need to look more closely at the [IPython.display](https://ipython.readthedocs.io/en/stable/api/generated/IPython.display.html) namespace to move forward here."
   ]
  },
  {
   "cell_type": "markdown",
   "metadata": {},
   "source": [
    "## Markdown\n",
    "Back to [TOC](#Table-of-Contents)\n",
    "\n",
    "\n",
    "The simplest task is simply adding some markdown output to a code cell. Of course you could just change to a Markdown cell for this, but you know about the goals we're working towards."
   ]
  },
  {
   "cell_type": "code",
   "execution_count": null,
   "metadata": {},
   "outputs": [],
   "source": [
    "from IPython.display import Markdown"
   ]
  },
  {
   "cell_type": "code",
   "execution_count": null,
   "metadata": {},
   "outputs": [],
   "source": [
    "display(Markdown(\"#### Hello, _World_!\"))"
   ]
  },
  {
   "cell_type": "markdown",
   "metadata": {},
   "source": [
    "## _That's more like it!_\n",
    "\n",
    "But what about results?"
   ]
  },
  {
   "cell_type": "code",
   "execution_count": null,
   "metadata": {},
   "outputs": [],
   "source": [
    "some_results = 1/3\n",
    "display(Markdown(\"Here are some results... {}\".format(some_results)))"
   ]
  },
  {
   "cell_type": "markdown",
   "metadata": {},
   "source": [
    "This includes allowing us to use _**LaTeX**_ from code cells with some caveats."
   ]
  },
  {
   "cell_type": "code",
   "execution_count": null,
   "metadata": {},
   "outputs": [],
   "source": [
    "display(Markdown(\"This is markdown with $LaTeX$ from a Code Cell.\"))\n",
    "display(Markdown(\"$\\\\overrightarrow{x}'=A\\\\overrightarrow{x}+\\\\overrightarrow{g}$\"))\n",
    "display(Markdown(\"$\\\\beta = (X^{T}X)^{-1}X^{T}Y$\"))"
   ]
  },
  {
   "cell_type": "markdown",
   "metadata": {},
   "source": [
    "That worked well. However, when we want to insert values, if we use `str.format()`, we'll need to watch mixing our `format()` `{}` and $LaTeX$ `{}`, since they have special meanings for both."
   ]
  },
  {
   "cell_type": "code",
   "execution_count": null,
   "metadata": {},
   "outputs": [],
   "source": [
    "# notice this is a longer block of text we're writing. Here are two ways to break up longer strings in code cells.\n",
    "\n",
    "# first you can use a \\ at the end of the string, but you cannot put a comment between the end of a \\ line ending\n",
    "# and the next line of code\n",
    "\n",
    "display(Markdown(\"Strings using format to {} like {:.2%}\\\n",
    "                programatically\".format(\"add data\", 0.0051)+ \n",
    "\n",
    "# you can however put a comment between a string you've close with \"\" or the returned string from \"{}\".format()\n",
    "# and the beginning of the next line of code if you're concatenating strings with str()+str()\n",
    "                 \n",
    "                 \" should build strings with $LaTeX$ incrementally.\"))"
   ]
  },
  {
   "cell_type": "markdown",
   "metadata": {},
   "source": [
    "## Images\n",
    "Back to [TOC](#Table-of-Contents)\n",
    " \n",
    "If you have a reference image, or have already generated an image in another script that you want to load into a notebook, or even a remote image the `IPython.display.Image()` class is for you!"
   ]
  },
  {
   "cell_type": "code",
   "execution_count": null,
   "metadata": {},
   "outputs": [],
   "source": [
    "from IPython.display import Image"
   ]
  },
  {
   "cell_type": "code",
   "execution_count": null,
   "metadata": {},
   "outputs": [],
   "source": [
    "# image from USDA Forest Service\n",
    "# Original source: https://www.fs.fed.us/wildflowers/beauty/ferns/images/structure/blade_pinna_pinnule.jpg\n",
    "# Photo and Image rights: https://www.fs.fed.us/wildflowers/photos.shtml\n",
    "local_image = Image(\"blade_pinna_pinnule_lg.jpg\")\n",
    "display(local_image)"
   ]
  },
  {
   "cell_type": "markdown",
   "metadata": {},
   "source": [
    "Displaying remote images is just as easy, simply provide the url with the `Image(url=\"uri://path\")` keyword argument."
   ]
  },
  {
   "cell_type": "code",
   "execution_count": null,
   "metadata": {},
   "outputs": [],
   "source": [
    "remote_image = Image(url=\"https://via.placeholder.com/320x240\")\n",
    "display(remote_image)"
   ]
  },
  {
   "cell_type": "markdown",
   "metadata": {},
   "source": [
    "## Audio and Video\n",
    "Back to [TOC](#Table-of-Contents)\n",
    "\n",
    "Sometimes, you might actually render audio or a video from some code you've written (yes, you can!) or have a video from another source, and you want to embed in a notebook."
   ]
  },
  {
   "cell_type": "code",
   "execution_count": null,
   "metadata": {},
   "outputs": [],
   "source": [
    "from IPython.display import Audio, Video"
   ]
  },
  {
   "cell_type": "code",
   "execution_count": null,
   "metadata": {},
   "outputs": [],
   "source": [
    "import numpy as np, matplotlib.pyplot as plt"
   ]
  },
  {
   "cell_type": "code",
   "execution_count": null,
   "metadata": {},
   "outputs": [],
   "source": [
    "\n",
    "sample_rate = 44100\n",
    "secs = 5\n",
    "volume = 0.5\n",
    "freq = 440\n",
    "tau = np.linspace(0, secs, sample_rate*secs)\n",
    "\n",
    "sin = volume*np.sin(2*np.pi*freq*tau)\n",
    "\n",
    "window=int(sample_rate>>5)\n",
    "\n",
    "plt.plot(tau[:window], sin[:window])\n",
    "\n",
    "aud = Audio(sin, rate=44100)\n",
    "display(aud)\n",
    "\n",
    "display(Markdown(\"Let's also look at a plot of small window over the {}Hz sin wave data generated at a sample rate {}Hz.\".format(freq, sample_rate)))"
   ]
  },
  {
   "cell_type": "markdown",
   "metadata": {},
   "source": [
    "If you're interested in learning more about audio, you can check out even more examples [hear](https://musicinformationretrieval.com/ipython_audio.html) (yeah, pun intended)."
   ]
  },
  {
   "cell_type": "code",
   "execution_count": null,
   "metadata": {
    "scrolled": true
   },
   "outputs": [],
   "source": [
    "#“Français : Gouttes d'encres dans un verre d'eau” by M0tty is licensed under CC BY-SA 4.0\n",
    "local_vid = Video(\"Ink_drops_in_water.ogv.240p.vp9.webm\")\n",
    "\n",
    "display(local_vid)"
   ]
  },
  {
   "cell_type": "code",
   "execution_count": null,
   "metadata": {},
   "outputs": [],
   "source": [
    "remote_vid = Video(\"https://upload.wikimedia.org/wikipedia/commons/transcoded/d/d3/Ink_drops_in_water.ogv/Ink_drops_in_water.ogv.240p.vp9.webm\")\n",
    "\n",
    "display(remote_vid)"
   ]
  },
  {
   "cell_type": "markdown",
   "metadata": {},
   "source": [
    "## Embed Youtube\n",
    "Back to [TOC](#Table-of-Contents)\n",
    "\n",
    "Sometimes you might want to reference a talk, or a video you or someone else has posted to YouTube. This can be very simply."
   ]
  },
  {
   "cell_type": "code",
   "execution_count": null,
   "metadata": {},
   "outputs": [],
   "source": [
    "from IPython.display import YouTubeVideo"
   ]
  },
  {
   "cell_type": "code",
   "execution_count": null,
   "metadata": {},
   "outputs": [],
   "source": [
    "yt_vid = YouTubeVideo(\"HEfHFsfGXjs\", start=22)\n",
    "display(yt_vid)"
   ]
  },
  {
   "cell_type": "markdown",
   "metadata": {},
   "source": [
    "## Code Syntax Highlighting\n",
    "Back to [TOC](#Table-of-Contents)\n",
    "\n",
    "Sometimes it'd be nice to not just have a preformatted text block like \\`\\`\\` (triple backtick, the one that's below the ~ (tilde) on US keyboards) allows in Markdown, but a syntax highlighted block of code."
   ]
  },
  {
   "cell_type": "code",
   "execution_count": null,
   "metadata": {},
   "outputs": [],
   "source": [
    "from IPython.display import Code"
   ]
  },
  {
   "cell_type": "code",
   "execution_count": null,
   "metadata": {},
   "outputs": [],
   "source": [
    "display(Markdown(\"Here's some syntax highlighted python 3 code\"), Code(\"import os\\n\\nos.getcwd()\", language=\"py3\"))"
   ]
  },
  {
   "cell_type": "code",
   "execution_count": null,
   "metadata": {},
   "outputs": [],
   "source": [
    "source = \"lambda_product.py\"\n",
    "display(Markdown(\"A specific source file, \\\"{}\\\", with syntax highlighting\".format(source)), Code(source))"
   ]
  },
  {
   "cell_type": "markdown",
   "metadata": {},
   "source": [
    "And while this would be dangerous if you were to allow someone else to arbitrarily run whatever code they wanted outside of some \"safe\" sandboxed environment, it is possible to run this code in the current kernel and access values."
   ]
  },
  {
   "cell_type": "code",
   "execution_count": null,
   "metadata": {},
   "outputs": [],
   "source": [
    "example = open(source)\n",
    "ex_code = example.read()\n",
    "example.close()\n",
    "\n",
    "#in IPython/Jupyter there are also %load and %run magics, but here I will use the underlying python functionality\n",
    "\n",
    "#this can be dangerous to allow people to arbitrarily do, but if you want to run your own code in this scenario... \n",
    "exec(ex_code)\n",
    "\n",
    "#notice here, the product variable defined in the loaded script is now in this python kernels globals() and locals()\n",
    "display(Markdown(\"`product` is now in `locals()`: {} `globals()`: {}\".format(\"product\" in locals().keys(), \"product\" in globals().keys())))\n",
    "\n",
    "#so it's value can be referenced and displayed directly\n",
    "display(Code(source), Markdown(\"Result: {}\".format(product)))"
   ]
  },
  {
   "cell_type": "markdown",
   "metadata": {},
   "source": [
    "## Progress Bars\n",
    "Back to [TOC](#Table-of-Contents)\n",
    "\n",
    "Sometimes, you're running an algorithm that takes a while, but you just have to let it run. It'd be nice to see that something is happening. Progress bars are made for this. You can also update messages, images and other objects, but one thing at a time."
   ]
  },
  {
   "cell_type": "code",
   "execution_count": null,
   "metadata": {},
   "outputs": [],
   "source": [
    "from IPython.display import ProgressBar"
   ]
  },
  {
   "cell_type": "code",
   "execution_count": null,
   "metadata": {},
   "outputs": [],
   "source": [
    "#provide a sleep function to simulate a process taking awhile to complete\n",
    "import time"
   ]
  },
  {
   "cell_type": "code",
   "execution_count": null,
   "metadata": {},
   "outputs": [],
   "source": [
    "pb = ProgressBar(10)"
   ]
  },
  {
   "cell_type": "code",
   "execution_count": null,
   "metadata": {},
   "outputs": [],
   "source": [
    "#if you want to look at the members, methods and magic this gives some info,\n",
    "#and you can also go looking for the source on github.\n",
    "\n",
    "#display(help(pb))"
   ]
  },
  {
   "cell_type": "code",
   "execution_count": null,
   "metadata": {},
   "outputs": [],
   "source": [
    "for i in pb:\n",
    "    time.sleep(.1)"
   ]
  },
  {
   "cell_type": "markdown",
   "metadata": {},
   "source": [
    "If you want more control over when something updates (or it's not necessarily just showing progress of a loop), the 'old way' to use ProgressBar is more flexible (if you need it). The progress property of `IPython.display.ProgressBar` also allows us to reset, manually update or jump between progress positions. It is also possible to use `ipywidgets` and DisplayHandle if you want to keep diving deeper into the topic."
   ]
  },
  {
   "cell_type": "code",
   "execution_count": null,
   "metadata": {},
   "outputs": [],
   "source": [
    "pb2 = ProgressBar(10)\n",
    "\n",
    "pb2.display()\n",
    "\n",
    "#do some linear work, like initializing\n",
    "time.sleep(.8)\n",
    "pb2.progress=+1\n",
    "\n",
    "for i in range(2,5):\n",
    "    time.sleep(.1)\n",
    "    pb2.progress+=1\n",
    "    \n",
    "#do some linear work.... in between\n",
    "time.sleep(.8)\n",
    "pb2.progress+=1\n",
    "    \n",
    "for i in range(6,10):\n",
    "    time.sleep(.1)\n",
    "    pb2.progress+=1\n",
    "    \n",
    "#do some linear work, like cleaning up\n",
    "time.sleep(.8)\n",
    "pb2.progress+=1\n",
    "\n",
    "\n",
    "time.sleep(1)\n",
    "pb2.progress = 0"
   ]
  },
  {
   "cell_type": "markdown",
   "metadata": {},
   "source": [
    "## Display Handles\n",
    "Back to [TOC](#Table-of-Contents)\n",
    "\n",
    "Display Handles are a big part of how this all works internally. This won't be exhaustive, but if you want to better understand, or are running into what appear to be some odd behaviors, this might help you as a starting point as to what to continue looking for. We'll start with an example of how we might find this immediately useful."
   ]
  },
  {
   "cell_type": "code",
   "execution_count": null,
   "metadata": {},
   "outputs": [],
   "source": [
    "from IPython.display import DisplayHandle"
   ]
  },
  {
   "cell_type": "markdown",
   "metadata": {},
   "source": [
    "As mentioned before, you might have seen some different types of behaviors using `matplotlib.pyplot` in a loop."
   ]
  },
  {
   "cell_type": "code",
   "execution_count": null,
   "metadata": {},
   "outputs": [],
   "source": [
    "import matplotlib.pyplot as plt\n",
    "\n",
    "bins = [i/3 for i in range(5)]\n",
    "\n",
    "plt.figure(figsize=(2, 1.5))\n",
    "\n",
    "for i in range(2):\n",
    "    plt.hist([0+i/3,1-i/3], bins=bins)\n",
    "\n",
    "plt.show()"
   ]
  },
  {
   "cell_type": "markdown",
   "metadata": {},
   "source": [
    "Sometimes adding another set of data to the same graph is what you want, other times you want separate graphs."
   ]
  },
  {
   "cell_type": "code",
   "execution_count": null,
   "metadata": {},
   "outputs": [],
   "source": [
    "for i in range(2):\n",
    "    plt.figure(figsize=(2,1.5))\n",
    "    plt.hist([0+i/3,1-i/3], bins=bins)\n",
    "    plt.show()"
   ]
  },
  {
   "cell_type": "markdown",
   "metadata": {},
   "source": [
    "This is related to having more than one output in one code cell. We can accomplish something similar using `DisplayHandle()`."
   ]
  },
  {
   "cell_type": "markdown",
   "metadata": {},
   "source": [
    "What if we want to provide some text updates along with a progress bar, to let us know what's currently happening, maybe a sample of the current data?"
   ]
  },
  {
   "cell_type": "code",
   "execution_count": null,
   "metadata": {},
   "outputs": [],
   "source": [
    "pb3 = ProgressBar(10)\n",
    "\n",
    "for i in pb3:\n",
    "    display(Markdown(\"This is the {} iteration\".format(i)))"
   ]
  },
  {
   "cell_type": "markdown",
   "metadata": {},
   "source": [
    "That wasn't what we really wanted... It's because each call to `display()` implicitly adds another Display Handle. We can manually create and reuse the same `DisplayHandle` object to get the effect we're looking for."
   ]
  },
  {
   "cell_type": "code",
   "execution_count": null,
   "metadata": {},
   "outputs": [],
   "source": [
    "md = Markdown(\"This is some markdown with $LaTeX$, but it will be replaced soon.\")\n",
    "dh = DisplayHandle()\n",
    "dh.display(md)\n",
    "\n",
    "time.sleep(1.5)\n",
    "\n",
    "for i in pb3:\n",
    "    #notice typesetting takes a little while\n",
    "    md = Markdown(\"This text has been updated for {} iterations\".format(i))\n",
    "    dh.update(md)\n",
    "    #this sleep can be increased if you want to allow typesetting to complete\n",
    "    time.sleep(.7)"
   ]
  },
  {
   "cell_type": "markdown",
   "metadata": {},
   "source": [
    "As you might have noticed, the $LaTeX$ might have taken a while to be typeset. This is just how it is, so creative use of display handles is probably what you'll want to look at."
   ]
  },
  {
   "cell_type": "code",
   "execution_count": null,
   "metadata": {},
   "outputs": [],
   "source": [
    "DisplayHandle().display(Markdown(\"This is a Display Handle with some $LaTeX$ that wont need to be typeset everytime another handle in this code cell is updated\"))\n",
    "dh2 = DisplayHandle()\n",
    "\n",
    "dh2.display(Markdown(\"This text's display handle will be updated\"))\n",
    "\n",
    "for i in range(5):\n",
    "    time.sleep(.5)\n",
    "    dh2.update(Markdown(\"Updated for {} iterations\".format(i)))"
   ]
  },
  {
   "cell_type": "markdown",
   "metadata": {},
   "source": [
    "Exisiting instances still have views in previous cells they are used in."
   ]
  },
  {
   "cell_type": "code",
   "execution_count": null,
   "metadata": {},
   "outputs": [],
   "source": [
    "# add a new display handle for progress bar 3 to this code cell, it still has one in the earlier code cell too\n",
    "pb3.display()"
   ]
  },
  {
   "cell_type": "code",
   "execution_count": null,
   "metadata": {},
   "outputs": [],
   "source": [
    "pb3.display()\n",
    "pb3.progress = 0\n",
    "for i in range(10):\n",
    "    time.sleep(.1)\n",
    "    pb3.progress += 1    "
   ]
  },
  {
   "cell_type": "markdown",
   "metadata": {},
   "source": [
    "This may explain why you would or wouldnt want to reuse a previous progress bar object, when it has a separate display."
   ]
  },
  {
   "cell_type": "markdown",
   "metadata": {},
   "source": [
    "Display handles don't just let you replace content with content of the same type either."
   ]
  },
  {
   "cell_type": "code",
   "execution_count": null,
   "metadata": {},
   "outputs": [],
   "source": [
    "md2 = Markdown(\"This provides an example of the way DisplayHandles work.\")\n",
    "im = Image(url=\"https://via.placeholder.com/320x240\")\n",
    "\n",
    "dh2 = DisplayHandle()\n",
    "dh3 = DisplayHandle()\n",
    "\n",
    "dh2.display(im)\n",
    "dh3.display(md2)"
   ]
  },
  {
   "cell_type": "markdown",
   "metadata": {},
   "source": [
    "When you run the next cell, the display handles that already exist will be updated with the new object. This could be a completely new object, but they need not be. What do you expect will happen?"
   ]
  },
  {
   "cell_type": "code",
   "execution_count": null,
   "metadata": {},
   "outputs": [],
   "source": [
    "dh2.update(md2)\n",
    "dh3.update(im)"
   ]
  },
  {
   "cell_type": "markdown",
   "metadata": {},
   "source": [
    "You might have noticed or recognized this behavior earlier, but you should be confident about it now."
   ]
  },
  {
   "cell_type": "markdown",
   "metadata": {},
   "source": [
    "I hope this has helped to give some insight into some basics, and even some of the trickier topics of using Jupyter notebooks to create content-rich reports. Hosting a fully functioning interactive version of this sort of report/notebook, using `ipywidgets` to make interactive plots with sliders, and sites like [Binder](https://mybinder.org/) are probably the next things to look into. I haven't quite had time for that myself yet."
   ]
  }
 ],
 "metadata": {
  "kernelspec": {
   "display_name": "Python 3",
   "language": "python",
   "name": "python3"
  },
  "language_info": {
   "codemirror_mode": {
    "name": "ipython",
    "version": 3
   },
   "file_extension": ".py",
   "mimetype": "text/x-python",
   "name": "python",
   "nbconvert_exporter": "python",
   "pygments_lexer": "ipython3",
   "version": "3.7.0"
  }
 },
 "nbformat": 4,
 "nbformat_minor": 2
}
